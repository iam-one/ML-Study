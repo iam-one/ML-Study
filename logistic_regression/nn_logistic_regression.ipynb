{
 "cells": [
  {
   "cell_type": "code",
   "execution_count": 1,
   "metadata": {},
   "outputs": [],
   "source": [
    "import torch\n",
    "import torch.nn as nn\n",
    "import torch.nn.functional as F\n",
    "import torch.optim as optim\n",
    "\n",
    "import numpy as np\n",
    "import matplotlib.pyplot as plt\n",
    "\n",
    "from torch.utils.data import TensorDataset\n",
    "from torch.utils.data import DataLoader"
   ]
  },
  {
   "cell_type": "code",
   "execution_count": 2,
   "metadata": {},
   "outputs": [],
   "source": [
    "x_data = [[1, 2], [2, 3], [3, 1], [4, 3], [5, 3], [6, 2]]\n",
    "y_data = [[0], [0], [0], [1], [1], [1]]\n",
    "x_train = torch.FloatTensor(x_data)\n",
    "y_train = torch.FloatTensor(y_data)"
   ]
  },
  {
   "cell_type": "code",
   "execution_count": 3,
   "metadata": {},
   "outputs": [],
   "source": [
    "dataset = TensorDataset(x_train, y_train)\n",
    "dataloader = DataLoader(dataset, batch_size=5, shuffle=True)"
   ]
  },
  {
   "cell_type": "code",
   "execution_count": 4,
   "metadata": {},
   "outputs": [],
   "source": [
    "# model definition\n",
    "\n",
    "class LogisticRegression(nn.Module):\n",
    "    def __init__(self):\n",
    "        super().__init__()\n",
    "        self.linear = nn.Linear(2, 1)\n",
    "        self.sigmoid = nn.Sigmoid()\n",
    "    \n",
    "    def forward(self, x):\n",
    "        return self.sigmoid(self.linear(x))"
   ]
  },
  {
   "cell_type": "code",
   "execution_count": 5,
   "metadata": {},
   "outputs": [],
   "source": [
    "model = LogisticRegression()\n",
    "optimizer = optim.SGD(model.parameters(), lr=1)\n",
    "\n",
    "costdata = []"
   ]
  },
  {
   "cell_type": "code",
   "execution_count": 6,
   "metadata": {},
   "outputs": [
    {
     "name": "stdout",
     "output_type": "stream",
     "text": [
      "Epoch    0/100 Batch 1/2 Cost: 0.749440 Accuracy 60.00%\n",
      "Epoch    0/100 Batch 2/2 Cost: 0.004569 Accuracy 100.00%\n",
      "Epoch   10/100 Batch 1/2 Cost: 1.358807 Accuracy 60.00%\n",
      "Epoch   10/100 Batch 2/2 Cost: 4.863988 Accuracy 0.00%\n",
      "Epoch   20/100 Batch 1/2 Cost: 1.050102 Accuracy 60.00%\n",
      "Epoch   20/100 Batch 2/2 Cost: 0.083915 Accuracy 100.00%\n",
      "Epoch   30/100 Batch 1/2 Cost: 0.923659 Accuracy 80.00%\n",
      "Epoch   30/100 Batch 2/2 Cost: 0.001058 Accuracy 100.00%\n",
      "Epoch   40/100 Batch 1/2 Cost: 0.518252 Accuracy 80.00%\n",
      "Epoch   40/100 Batch 2/2 Cost: 0.006218 Accuracy 100.00%\n",
      "Epoch   50/100 Batch 1/2 Cost: 0.168575 Accuracy 100.00%\n",
      "Epoch   50/100 Batch 2/2 Cost: 0.007401 Accuracy 100.00%\n",
      "Epoch   60/100 Batch 1/2 Cost: 0.044894 Accuracy 100.00%\n",
      "Epoch   60/100 Batch 2/2 Cost: 0.433477 Accuracy 100.00%\n",
      "Epoch   70/100 Batch 1/2 Cost: 0.354316 Accuracy 80.00%\n",
      "Epoch   70/100 Batch 2/2 Cost: 0.002266 Accuracy 100.00%\n",
      "Epoch   80/100 Batch 1/2 Cost: 0.088529 Accuracy 100.00%\n",
      "Epoch   80/100 Batch 2/2 Cost: 0.012324 Accuracy 100.00%\n",
      "Epoch   90/100 Batch 1/2 Cost: 1.006740 Accuracy 60.00%\n",
      "Epoch   90/100 Batch 2/2 Cost: 0.002437 Accuracy 100.00%\n",
      "Epoch  100/100 Batch 1/2 Cost: 0.053729 Accuracy 100.00%\n",
      "Epoch  100/100 Batch 2/2 Cost: 0.140067 Accuracy 100.00%\n"
     ]
    }
   ],
   "source": [
    "nb_epochs = 100\n",
    "\n",
    "for epoch in range(nb_epochs + 1):\n",
    "    for batch_idx, samples in enumerate(dataloader):\n",
    "        # load train data\n",
    "        x_train, y_train = samples\n",
    "        \n",
    "        # H(x)\n",
    "        hypothesis = model(x_train)\n",
    "        \n",
    "        # cost\n",
    "        cost = F.binary_cross_entropy(hypothesis, y_train)\n",
    "        costdata.append([epoch, float(cost)])\n",
    "\n",
    "        # backward\n",
    "        optimizer.zero_grad()\n",
    "        cost.backward()\n",
    "        optimizer.step()\n",
    "\n",
    "        if epoch % 10 == 0:\n",
    "            prediction = hypothesis >= torch.FloatTensor([0.5]) # True (>= 0.5)\n",
    "            correct_prediction = prediction.float() == y_train # True (co_pred == pred)\n",
    "            accuracy = correct_prediction.sum().item() / len(correct_prediction) # calculate accuracy\n",
    "            print('Epoch {:4d}/{} Batch {}/{} Cost: {:.6f} Accuracy {:2.2f}%'.format(\n",
    "                epoch, nb_epochs, batch_idx+1, len(dataloader), cost.item(), accuracy * 100,\n",
    "            ))"
   ]
  },
  {
   "cell_type": "code",
   "execution_count": 7,
   "metadata": {},
   "outputs": [
    {
     "name": "stdout",
     "output_type": "stream",
     "text": [
      "tensor([0.0037], grad_fn=<SigmoidBackward0>)\n"
     ]
    }
   ],
   "source": [
    "print(model(torch.FloatTensor([2, 1])))"
   ]
  },
  {
   "cell_type": "code",
   "execution_count": 8,
   "metadata": {},
   "outputs": [
    {
     "data": {
      "text/plain": [
       "[<matplotlib.lines.Line2D at 0x290799a00>]"
      ]
     },
     "execution_count": 8,
     "metadata": {},
     "output_type": "execute_result"
    },
    {
     "data": {
      "image/png": "[encoded data removed]",
      "text/plain": [
       "<Figure size 640x480 with 1 Axes>"
      ]
     },
     "metadata": {},
     "output_type": "display_data"
    }
   ],
   "source": [
    "# gradient for epoch 1 ~ 26\n",
    "\n",
    "plt.plot(np.transpose(costdata)[0][:25], np.transpose(costdata)[1][:25], '-')"
   ]
  }
 ],
 "metadata": {
  "kernelspec": {
   "display_name": "mlenv",
   "language": "python",
   "name": "python3"
  },
  "language_info": {
   "codemirror_mode": {
    "name": "ipython",
    "version": 3
   },
   "file_extension": ".py",
   "mimetype": "text/x-python",
   "name": "python",
   "nbconvert_exporter": "python",
   "pygments_lexer": "ipython3",
   "version": "3.9.11"
  },
  "orig_nbformat": 4
 },
 "nbformat": 4,
 "nbformat_minor": 2
}
