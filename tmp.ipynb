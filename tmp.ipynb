{
 "cells": [
  {
   "cell_type": "code",
   "execution_count": null,
   "metadata": {},
   "outputs": [],
   "source": [
    "import cv2\n",
    "import numpy as np\n",
    "\n",
    "def fisheye_distortion(image_path):\n",
    "    # Load the image\n",
    "    image = cv2.imread(image_path)\n",
    "\n",
    "    # Define the fisheye camera intrinsic parameters\n",
    "    width, height = image.shape[:2]\n",
    "    focal_length = max(width, height)\n",
    "    center_x = width / 2\n",
    "    center_y = height / 2\n",
    "    distortion_coefficients = np.zeros((4, 1), dtype=np.float64)\n",
    "\n",
    "    # Generate the fisheye transformation map\n",
    "    map_x, map_y = cv2.fisheye.initUndistortRectifyMap(\n",
    "        np.eye(3, dtype=np.float32),\n",
    "        distortion_coefficients,\n",
    "        np.eye(3, dtype=np.float32),\n",
    "        np.eye(3, dtype=np.float32),\n",
    "        (width, height),\n",
    "        cv2.CV_16SC2\n",
    "    )\n",
    "\n",
    "    # Apply the fisheye transformation to the image\n",
    "    distorted_image = cv2.remap(image, map_x, map_y, interpolation=cv2.INTER_LINEAR, borderMode=cv2.BORDER_CONSTANT)\n",
    "\n",
    "    return distorted_image\n",
    "\n",
    "# Usage example\n",
    "input_image_path = \"input_image.jpg\"\n",
    "output_image = fisheye_distortion(input_image_path)\n",
    "\n",
    "# Save the output image\n",
    "cv2.imwrite(\"output_image.jpg\", output_image)"
   ]
  }
 ],
 "metadata": {
  "language_info": {
   "name": "python"
  },
  "orig_nbformat": 4
 },
 "nbformat": 4,
 "nbformat_minor": 2
}
