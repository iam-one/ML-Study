{
 "cells": [
  {
   "cell_type": "code",
   "execution_count": 1,
   "metadata": {},
   "outputs": [],
   "source": [
    "import numpy as np\n",
    "\n",
    "x_train = np.array([1., 2., 3., 4., 5., 6.])\n",
    "y_train = np.array([9., 12., 15., 18., 21., 24.])"
   ]
  },
  {
   "cell_type": "code",
   "execution_count": 2,
   "metadata": {},
   "outputs": [],
   "source": [
    "W = 0.0\n",
    "b = 0.0"
   ]
  },
  {
   "cell_type": "code",
   "execution_count": 3,
   "metadata": {},
   "outputs": [],
   "source": [
    "n_data = len(x_train)\n",
    "epochs = 5000\n",
    "lr = 0.01"
   ]
  },
  {
   "cell_type": "code",
   "execution_count": 4,
   "metadata": {},
   "outputs": [
    {
     "name": "stdout",
     "output_type": "stream",
     "text": [
      "Epoch (         0/      5000) cost: 298.500000, W:   1.330000, b:  0.330000\n",
      "Epoch (       100/      5000) cost:   2.338782, W:   3.811350, b:  2.526450\n",
      "Epoch (       200/      5000) cost:   1.125703, W:   3.562892, b:  3.590147\n",
      "Epoch (       300/      5000) cost:   0.541823, W:   3.390519, b:  4.328111\n",
      "Epoch (       400/      5000) cost:   0.260790, W:   3.270931, b:  4.840089\n",
      "Epoch (       500/      5000) cost:   0.125524, W:   3.187965, b:  5.195286\n",
      "Epoch (       600/      5000) cost:   0.060417, W:   3.130405, b:  5.441712\n",
      "Epoch (       700/      5000) cost:   0.029080, W:   3.090471, b:  5.612675\n",
      "Epoch (       800/      5000) cost:   0.013997, W:   3.062766, b:  5.731285\n",
      "Epoch (       900/      5000) cost:   0.006737, W:   3.043546, b:  5.813573\n",
      "Epoch (      1000/      5000) cost:   0.003243, W:   3.030211, b:  5.870662\n",
      "Epoch (      1100/      5000) cost:   0.001561, W:   3.020959, b:  5.910269\n",
      "Epoch (      1200/      5000) cost:   0.000751, W:   3.014541, b:  5.937747\n",
      "Epoch (      1300/      5000) cost:   0.000362, W:   3.010088, b:  5.956811\n",
      "Epoch (      1400/      5000) cost:   0.000174, W:   3.006999, b:  5.970036\n",
      "Epoch (      1500/      5000) cost:   0.000084, W:   3.004856, b:  5.979212\n",
      "Epoch (      1600/      5000) cost:   0.000040, W:   3.003369, b:  5.985578\n",
      "Epoch (      1700/      5000) cost:   0.000019, W:   3.002337, b:  5.989994\n",
      "Epoch (      1800/      5000) cost:   0.000009, W:   3.001621, b:  5.993058\n",
      "Epoch (      1900/      5000) cost:   0.000004, W:   3.001125, b:  5.995184\n",
      "Epoch (      2000/      5000) cost:   0.000002, W:   3.000780, b:  5.996659\n",
      "Epoch (      2100/      5000) cost:   0.000001, W:   3.000541, b:  5.997682\n",
      "Epoch (      2200/      5000) cost:   0.000001, W:   3.000376, b:  5.998392\n",
      "Epoch (      2300/      5000) cost:   0.000000, W:   3.000261, b:  5.998884\n",
      "Epoch (      2400/      5000) cost:   0.000000, W:   3.000181, b:  5.999226\n",
      "Epoch (      2500/      5000) cost:   0.000000, W:   3.000125, b:  5.999463\n",
      "Epoch (      2600/      5000) cost:   0.000000, W:   3.000087, b:  5.999627\n",
      "Epoch (      2700/      5000) cost:   0.000000, W:   3.000060, b:  5.999742\n",
      "Epoch (      2800/      5000) cost:   0.000000, W:   3.000042, b:  5.999821\n",
      "Epoch (      2900/      5000) cost:   0.000000, W:   3.000029, b:  5.999876\n",
      "Epoch (      3000/      5000) cost:   0.000000, W:   3.000020, b:  5.999914\n",
      "Epoch (      3100/      5000) cost:   0.000000, W:   3.000014, b:  5.999940\n",
      "Epoch (      3200/      5000) cost:   0.000000, W:   3.000010, b:  5.999958\n",
      "Epoch (      3300/      5000) cost:   0.000000, W:   3.000007, b:  5.999971\n",
      "Epoch (      3400/      5000) cost:   0.000000, W:   3.000005, b:  5.999980\n",
      "Epoch (      3500/      5000) cost:   0.000000, W:   3.000003, b:  5.999986\n",
      "Epoch (      3600/      5000) cost:   0.000000, W:   3.000002, b:  5.999990\n",
      "Epoch (      3700/      5000) cost:   0.000000, W:   3.000002, b:  5.999993\n",
      "Epoch (      3800/      5000) cost:   0.000000, W:   3.000001, b:  5.999995\n",
      "Epoch (      3900/      5000) cost:   0.000000, W:   3.000001, b:  5.999997\n",
      "Epoch (      4000/      5000) cost:   0.000000, W:   3.000001, b:  5.999998\n",
      "Epoch (      4100/      5000) cost:   0.000000, W:   3.000000, b:  5.999998\n",
      "Epoch (      4200/      5000) cost:   0.000000, W:   3.000000, b:  5.999999\n",
      "Epoch (      4300/      5000) cost:   0.000000, W:   3.000000, b:  5.999999\n",
      "Epoch (      4400/      5000) cost:   0.000000, W:   3.000000, b:  5.999999\n",
      "Epoch (      4500/      5000) cost:   0.000000, W:   3.000000, b:  6.000000\n",
      "Epoch (      4600/      5000) cost:   0.000000, W:   3.000000, b:  6.000000\n",
      "Epoch (      4700/      5000) cost:   0.000000, W:   3.000000, b:  6.000000\n",
      "Epoch (      4800/      5000) cost:   0.000000, W:   3.000000, b:  6.000000\n",
      "Epoch (      4900/      5000) cost:   0.000000, W:   3.000000, b:  6.000000\n",
      "W:   3.000000\n",
      "b:   6.000000\n",
      "result : \n",
      "[ 8.99999996 11.99999997 14.99999998 18.         21.00000001 24.00000002]\n"
     ]
    }
   ],
   "source": [
    "for i in range(epochs):\n",
    "    h = x_train * W + b\n",
    "    cost = np.sum((h - y_train) ** 2) / n_data\n",
    "\n",
    "    grad_w = np.sum((W * x_train - y_train + b) * 2 * x_train) / n_data\n",
    "    grad_b = np.sum((W * x_train - y_train + b) * 2) / n_data\n",
    "\n",
    "    W -= lr * grad_w\n",
    "    b -= lr * grad_b\n",
    "\n",
    "    if i % 100 == 0:\n",
    "        print('Epoch ({:10d}/{:10d}) cost: {:10f}, W: {:10f}, b:{:10f}'.format(i, epochs, cost, W, b))\n",
    "\n",
    "print('W: {:10f}'.format(W))\n",
    "print('b: {:10f}'.format(b))\n",
    "print('result : ')\n",
    "print(x_train * W + b)"
   ]
  },
  {
   "cell_type": "code",
   "execution_count": null,
   "metadata": {},
   "outputs": [],
   "source": []
  }
 ],
 "metadata": {
  "kernelspec": {
   "display_name": "mlenv",
   "language": "python",
   "name": "python3"
  },
  "language_info": {
   "codemirror_mode": {
    "name": "ipython",
    "version": 3
   },
   "file_extension": ".py",
   "mimetype": "text/x-python",
   "name": "python",
   "nbconvert_exporter": "python",
   "pygments_lexer": "ipython3",
   "version": "3.9.16"
  }
 },
 "nbformat": 4,
 "nbformat_minor": 2
}
