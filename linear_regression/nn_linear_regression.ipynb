{
 "cells": [
  {
   "cell_type": "code",
   "execution_count": 69,
   "metadata": {},
   "outputs": [
    {
     "data": {
      "text/plain": [
       "<torch._C.Generator at 0x11a65f630>"
      ]
     },
     "execution_count": 69,
     "metadata": {},
     "output_type": "execute_result"
    }
   ],
   "source": [
    "import torch\n",
    "import torch.nn as nn\n",
    "import torch.nn.functional as F\n",
    "\n",
    "import numpy as np\n",
    "import matplotlib.pyplot as plt\n",
    "\n",
    "torch.manual_seed(1)"
   ]
  },
  {
   "cell_type": "code",
   "execution_count": 65,
   "metadata": {},
   "outputs": [],
   "source": [
    "# Dataset\n",
    "\n",
    "x_train = torch.FloatTensor([[73, 80, 75],\n",
    "                             [93, 88, 93],\n",
    "                             [89, 91, 90],\n",
    "                             [96, 98, 100],\n",
    "                             [73, 66, 70]])\n",
    "y_train = torch.FloatTensor([[152], [185], [180], [196], [142]])"
   ]
  },
  {
   "cell_type": "code",
   "execution_count": 90,
   "metadata": {},
   "outputs": [],
   "source": [
    "# model define and initiate, input_dim=3, output_dim=1\n",
    "model = nn.Linear(3, 1)\n",
    "\n",
    "# optimizer define\n",
    "optimizer = torch.optim.SGD(model.parameters(), lr=1e-5)\n",
    "\n",
    "# cost list\n",
    "costdata = []"
   ]
  },
  {
   "cell_type": "code",
   "execution_count": 91,
   "metadata": {},
   "outputs": [
    {
     "name": "stdout",
     "output_type": "stream",
     "text": [
      "Epoch    0/2000 Cost: 24821.373047\n",
      "Epoch  100/2000 Cost: 0.849148\n",
      "Epoch  200/2000 Cost: 0.825597\n",
      "Epoch  300/2000 Cost: 0.803225\n",
      "Epoch  400/2000 Cost: 0.781968\n",
      "Epoch  500/2000 Cost: 0.761779\n",
      "Epoch  600/2000 Cost: 0.742587\n",
      "Epoch  700/2000 Cost: 0.724357\n",
      "Epoch  800/2000 Cost: 0.707025\n",
      "Epoch  900/2000 Cost: 0.690548\n",
      "Epoch 1000/2000 Cost: 0.674883\n",
      "Epoch 1100/2000 Cost: 0.659985\n",
      "Epoch 1200/2000 Cost: 0.645810\n",
      "Epoch 1300/2000 Cost: 0.632342\n",
      "Epoch 1400/2000 Cost: 0.619514\n",
      "Epoch 1500/2000 Cost: 0.607307\n",
      "Epoch 1600/2000 Cost: 0.595689\n",
      "Epoch 1700/2000 Cost: 0.584615\n",
      "Epoch 1800/2000 Cost: 0.574086\n",
      "Epoch 1900/2000 Cost: 0.564045\n",
      "Epoch 2000/2000 Cost: 0.554474\n"
     ]
    }
   ],
   "source": [
    "nb_epochs = 2000\n",
    "for epoch in range(nb_epochs + 1):\n",
    "    # H(x)\n",
    "    prediction = model(x_train)\n",
    "    \n",
    "    #cost\n",
    "    cost = F.mse_loss(prediction, y_train)\n",
    "    costdata.append([epoch, float(cost)])\n",
    "\n",
    "    # backward\n",
    "    optimizer.zero_grad()\n",
    "    cost.backward()\n",
    "    optimizer.step()\n",
    "\n",
    "    if epoch % 100 == 0: print('Epoch {:4d}/{} Cost: {:.6f}'.format(\n",
    "          epoch, nb_epochs, cost.item()\n",
    "      ))"
   ]
  },
  {
   "cell_type": "code",
   "execution_count": 85,
   "metadata": {},
   "outputs": [
    {
     "name": "stdout",
     "output_type": "stream",
     "text": [
      "tensor([[151.2306]], grad_fn=<AddmmBackward0>)\n"
     ]
    }
   ],
   "source": [
    "n_var = torch.FloatTensor([[73, 80, 75]])\n",
    "\n",
    "print(model(n_var))"
   ]
  },
  {
   "cell_type": "code",
   "execution_count": 117,
   "metadata": {},
   "outputs": [
    {
     "data": {
      "text/plain": [
       "[<matplotlib.lines.Line2D at 0x16c83cc70>]"
      ]
     },
     "execution_count": 117,
     "metadata": {},
     "output_type": "execute_result"
    },
    {
     "data": {
      "image/png": "[encoded data removed]",
      "text/plain": [
       "<Figure size 640x480 with 1 Axes>"
      ]
     },
     "metadata": {},
     "output_type": "display_data"
    }
   ],
   "source": [
    "# gradient for epoch 1 ~ 26\n",
    "\n",
    "plt.plot(np.transpose(costdata)[0][:25], np.transpose(costdata)[1][:25], '-')"
   ]
  }
 ],
 "metadata": {
  "kernelspec": {
   "display_name": "mlenv",
   "language": "python",
   "name": "python3"
  },
  "language_info": {
   "codemirror_mode": {
    "name": "ipython",
    "version": 3
   },
   "file_extension": ".py",
   "mimetype": "text/x-python",
   "name": "python",
   "nbconvert_exporter": "python",
   "pygments_lexer": "ipython3",
   "version": "3.9.11"
  },
  "orig_nbformat": 4
 },
 "nbformat": 4,
 "nbformat_minor": 2
}
